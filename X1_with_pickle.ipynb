{
 "cells": [
  {
   "cell_type": "code",
   "execution_count": 18,
   "id": "1550bc5c",
   "metadata": {},
   "outputs": [],
   "source": [
    "import pandas as pd\n",
    "df = pd.read_csv(r'C:\\Users\\c2bte\\OneDrive\\Desktop\\nexgen\\hello.csv',encoding=\"utf-8\")"
   ]
  },
  {
   "cell_type": "code",
   "execution_count": 19,
   "id": "0c0fee44",
   "metadata": {},
   "outputs": [],
   "source": [
    "df = df.drop(['Bank', 'Pay', 'Crypto'], axis=1)"
   ]
  },
  {
   "cell_type": "code",
   "execution_count": 20,
   "id": "6de31503",
   "metadata": {},
   "outputs": [],
   "source": [
    "from sklearn.preprocessing import LabelEncoder\n",
    "\n",
    "categorical_columns = [\"Domain\", \"TLD\", \"Title\", \"URL\"]\n",
    "label_encoders = {}\n",
    "\n",
    "for col in categorical_columns:\n",
    "    le = LabelEncoder()\n",
    "    df[col] = le.fit_transform(df[col].astype(str))\n",
    "    label_encoders[col] = le  # Save encoders for later use"
   ]
  },
  {
   "cell_type": "code",
   "execution_count": 21,
   "id": "ad5ae994",
   "metadata": {},
   "outputs": [
    {
     "name": "stdout",
     "output_type": "stream",
     "text": [
      "FILENAME                      float64\n",
      "URL                             int32\n",
      "URLLength                       int64\n",
      "Domain                          int32\n",
      "DomainLength                    int64\n",
      "IsDomainIP                      int64\n",
      "TLD                             int32\n",
      "URLSimilarityIndex            float64\n",
      "CharContinuationRate          float64\n",
      "TLDLegitimateProb             float64\n",
      "URLCharProb                   float64\n",
      "TLDLength                       int64\n",
      "NoOfSubDomain                   int64\n",
      "HasObfuscation                  int64\n",
      "NoOfObfuscatedChar              int64\n",
      "ObfuscationRatio              float64\n",
      "NoOfLettersInURL                int64\n",
      "LetterRatioInURL              float64\n",
      "NoOfDegitsInURL                 int64\n",
      "DegitRatioInURL               float64\n",
      "NoOfEqualsInURL                 int64\n",
      "NoOfQMarkInURL                  int64\n",
      "NoOfAmpersandInURL              int64\n",
      "NoOfOtherSpecialCharsInURL      int64\n",
      "SpacialCharRatioInURL         float64\n",
      "IsHTTPS                         int64\n",
      "LineOfCode                      int64\n",
      "LargestLineLength               int64\n",
      "HasTitle                        int64\n",
      "Title                           int32\n",
      "DomainTitleMatchScore         float64\n",
      "URLTitleMatchScore            float64\n",
      "HasFavicon                      int64\n",
      "Robots                          int64\n",
      "IsResponsive                    int64\n",
      "NoOfURLRedirect                 int64\n",
      "NoOfSelfRedirect                int64\n",
      "HasDescription                  int64\n",
      "NoOfPopup                       int64\n",
      "NoOfiFrame                      int64\n",
      "HasExternalFormSubmit           int64\n",
      "HasSocialNet                    int64\n",
      "HasSubmitButton                 int64\n",
      "HasHiddenFields                 int64\n",
      "HasPasswordField                int64\n",
      "HasCopyrightInfo                int64\n",
      "NoOfImage                       int64\n",
      "NoOfCSS                         int64\n",
      "NoOfJS                          int64\n",
      "NoOfSelfRef                     int64\n",
      "NoOfEmptyRef                    int64\n",
      "NoOfExternalRef                 int64\n",
      "label                           int64\n",
      "dtype: object\n",
      "         FILENAME     URL  URLLength  Domain  DomainLength  IsDomainIP  TLD  \\\n",
      "0        521848.0  209013         31  187114            24           0  231   \n",
      "1         31372.0  223747         23  204805            16           0  254   \n",
      "2        597387.0  227579         29  209611            22           0  647   \n",
      "3        554095.0  205082         26  182115            19           0  231   \n",
      "4        151578.0  198761         33  173664            26           0  503   \n",
      "...           ...     ...        ...     ...           ...         ...  ...   \n",
      "235790   660997.0  207156         29  184798            22           0  231   \n",
      "235791    77185.0  230522         28  213375            21           0  647   \n",
      "235792   622132.0  183327         30  154095            23           0  157   \n",
      "235793  7503962.0   85020         55   32135            47           0  258   \n",
      "235794   384822.0  102027         33   51949            26           0  231   \n",
      "\n",
      "        URLSimilarityIndex  CharContinuationRate  TLDLegitimateProb  ...  \\\n",
      "0               100.000000              1.000000           0.522907  ...   \n",
      "1               100.000000              0.666667           0.032650  ...   \n",
      "2               100.000000              0.866667           0.028555  ...   \n",
      "3               100.000000              1.000000           0.522907  ...   \n",
      "4               100.000000              1.000000           0.079963  ...   \n",
      "...                    ...                   ...                ...  ...   \n",
      "235790          100.000000              1.000000           0.522907  ...   \n",
      "235791          100.000000              0.785714           0.028555  ...   \n",
      "235792          100.000000              1.000000           0.003319  ...   \n",
      "235793           28.157537              0.465116           0.000961  ...   \n",
      "235794          100.000000              1.000000           0.522907  ...   \n",
      "\n",
      "        HasHiddenFields  HasPasswordField  HasCopyrightInfo  NoOfImage  \\\n",
      "0                     1                 0                 1         34   \n",
      "1                     0                 0                 1         50   \n",
      "2                     1                 0                 1         10   \n",
      "3                     1                 0                 1          3   \n",
      "4                     1                 0                 1        244   \n",
      "...                 ...               ...               ...        ...   \n",
      "235790                1                 0                 1         51   \n",
      "235791                1                 0                 0         50   \n",
      "235792                0                 0                 1         27   \n",
      "235793                1                 1                 0          0   \n",
      "235794                0                 0                 1         21   \n",
      "\n",
      "        NoOfCSS  NoOfJS  NoOfSelfRef  NoOfEmptyRef  NoOfExternalRef  label  \n",
      "0            20      28          119             0              124      1  \n",
      "1             9       8           39             0              217      1  \n",
      "2             2       7           42             2                5      1  \n",
      "3            27      15           22             1               31      1  \n",
      "4            15      34           72             1               85      1  \n",
      "...         ...     ...          ...           ...              ...    ...  \n",
      "235790        7      21          187             2              191      1  \n",
      "235791        1       7           88             0               31      1  \n",
      "235792       10      30           58             2               67      1  \n",
      "235793        0       3            0             0                0      0  \n",
      "235794        6      18          256             0              261      1  \n",
      "\n",
      "[235795 rows x 53 columns]\n"
     ]
    }
   ],
   "source": [
    "df['FILENAME'] = df['FILENAME'].astype(str)\n",
    "df['FILENAME'] = df['FILENAME'].str.extract(r'(\\d+\\.?\\d*)')\n",
    "df['FILENAME'] = pd.to_numeric(df['FILENAME'], errors='coerce') \n",
    "df['FILENAME'].fillna(0, inplace=True) \n",
    "print(df.dtypes)  \n",
    "print(df)"
   ]
  },
  {
   "cell_type": "code",
   "execution_count": 22,
   "id": "27bed857",
   "metadata": {},
   "outputs": [],
   "source": [
    "X1 = df.loc[:,:'IsHTTPS']"
   ]
  },
  {
   "cell_type": "code",
   "execution_count": null,
   "id": "48f7b50c",
   "metadata": {},
   "outputs": [],
   "source": []
  },
  {
   "cell_type": "code",
   "execution_count": null,
   "id": "539362ee",
   "metadata": {},
   "outputs": [],
   "source": []
  },
  {
   "cell_type": "code",
   "execution_count": 23,
   "id": "9f045c11",
   "metadata": {
    "scrolled": true
   },
   "outputs": [
    {
     "data": {
      "text/html": [
       "<div>\n",
       "<style scoped>\n",
       "    .dataframe tbody tr th:only-of-type {\n",
       "        vertical-align: middle;\n",
       "    }\n",
       "\n",
       "    .dataframe tbody tr th {\n",
       "        vertical-align: top;\n",
       "    }\n",
       "\n",
       "    .dataframe thead th {\n",
       "        text-align: right;\n",
       "    }\n",
       "</style>\n",
       "<table border=\"1\" class=\"dataframe\">\n",
       "  <thead>\n",
       "    <tr style=\"text-align: right;\">\n",
       "      <th></th>\n",
       "      <th>FILENAME</th>\n",
       "      <th>URL</th>\n",
       "      <th>URLLength</th>\n",
       "      <th>Domain</th>\n",
       "      <th>DomainLength</th>\n",
       "      <th>IsDomainIP</th>\n",
       "      <th>TLD</th>\n",
       "      <th>URLSimilarityIndex</th>\n",
       "      <th>CharContinuationRate</th>\n",
       "      <th>TLDLegitimateProb</th>\n",
       "      <th>...</th>\n",
       "      <th>HasHiddenFields</th>\n",
       "      <th>HasPasswordField</th>\n",
       "      <th>HasCopyrightInfo</th>\n",
       "      <th>NoOfImage</th>\n",
       "      <th>NoOfCSS</th>\n",
       "      <th>NoOfJS</th>\n",
       "      <th>NoOfSelfRef</th>\n",
       "      <th>NoOfEmptyRef</th>\n",
       "      <th>NoOfExternalRef</th>\n",
       "      <th>label</th>\n",
       "    </tr>\n",
       "  </thead>\n",
       "  <tbody>\n",
       "    <tr>\n",
       "      <th>0</th>\n",
       "      <td>521848.0</td>\n",
       "      <td>209013</td>\n",
       "      <td>31</td>\n",
       "      <td>187114</td>\n",
       "      <td>24</td>\n",
       "      <td>0</td>\n",
       "      <td>231</td>\n",
       "      <td>100.0</td>\n",
       "      <td>1.0</td>\n",
       "      <td>0.522907</td>\n",
       "      <td>...</td>\n",
       "      <td>1</td>\n",
       "      <td>0</td>\n",
       "      <td>1</td>\n",
       "      <td>34</td>\n",
       "      <td>20</td>\n",
       "      <td>28</td>\n",
       "      <td>119</td>\n",
       "      <td>0</td>\n",
       "      <td>124</td>\n",
       "      <td>1</td>\n",
       "    </tr>\n",
       "  </tbody>\n",
       "</table>\n",
       "<p>1 rows × 53 columns</p>\n",
       "</div>"
      ],
      "text/plain": [
       "   FILENAME     URL  URLLength  Domain  DomainLength  IsDomainIP  TLD  \\\n",
       "0  521848.0  209013         31  187114            24           0  231   \n",
       "\n",
       "   URLSimilarityIndex  CharContinuationRate  TLDLegitimateProb  ...  \\\n",
       "0               100.0                   1.0           0.522907  ...   \n",
       "\n",
       "   HasHiddenFields  HasPasswordField  HasCopyrightInfo  NoOfImage  NoOfCSS  \\\n",
       "0                1                 0                 1         34       20   \n",
       "\n",
       "   NoOfJS  NoOfSelfRef  NoOfEmptyRef  NoOfExternalRef  label  \n",
       "0      28          119             0              124      1  \n",
       "\n",
       "[1 rows x 53 columns]"
      ]
     },
     "execution_count": 23,
     "metadata": {},
     "output_type": "execute_result"
    }
   ],
   "source": [
    "df.head(1)"
   ]
  },
  {
   "cell_type": "code",
   "execution_count": null,
   "id": "56e03952",
   "metadata": {},
   "outputs": [],
   "source": []
  },
  {
   "cell_type": "code",
   "execution_count": null,
   "id": "a6dc7b7b",
   "metadata": {},
   "outputs": [],
   "source": []
  },
  {
   "cell_type": "code",
   "execution_count": null,
   "id": "34a6fdc5",
   "metadata": {},
   "outputs": [],
   "source": []
  },
  {
   "cell_type": "code",
   "execution_count": null,
   "id": "d0b45f52",
   "metadata": {},
   "outputs": [],
   "source": []
  },
  {
   "cell_type": "code",
   "execution_count": null,
   "id": "26a82179",
   "metadata": {},
   "outputs": [],
   "source": []
  },
  {
   "cell_type": "code",
   "execution_count": null,
   "id": "bb2f1af5",
   "metadata": {},
   "outputs": [],
   "source": []
  },
  {
   "cell_type": "code",
   "execution_count": 24,
   "id": "12cb02f0",
   "metadata": {},
   "outputs": [],
   "source": [
    "X1 = df.loc[:,:'IsHTTPS']"
   ]
  },
  {
   "cell_type": "code",
   "execution_count": 25,
   "id": "eb148a50",
   "metadata": {},
   "outputs": [
    {
     "data": {
      "text/html": [
       "<div>\n",
       "<style scoped>\n",
       "    .dataframe tbody tr th:only-of-type {\n",
       "        vertical-align: middle;\n",
       "    }\n",
       "\n",
       "    .dataframe tbody tr th {\n",
       "        vertical-align: top;\n",
       "    }\n",
       "\n",
       "    .dataframe thead th {\n",
       "        text-align: right;\n",
       "    }\n",
       "</style>\n",
       "<table border=\"1\" class=\"dataframe\">\n",
       "  <thead>\n",
       "    <tr style=\"text-align: right;\">\n",
       "      <th></th>\n",
       "      <th>FILENAME</th>\n",
       "      <th>URL</th>\n",
       "      <th>URLLength</th>\n",
       "      <th>Domain</th>\n",
       "      <th>DomainLength</th>\n",
       "      <th>IsDomainIP</th>\n",
       "      <th>TLD</th>\n",
       "      <th>URLSimilarityIndex</th>\n",
       "      <th>CharContinuationRate</th>\n",
       "      <th>TLDLegitimateProb</th>\n",
       "      <th>...</th>\n",
       "      <th>NoOfLettersInURL</th>\n",
       "      <th>LetterRatioInURL</th>\n",
       "      <th>NoOfDegitsInURL</th>\n",
       "      <th>DegitRatioInURL</th>\n",
       "      <th>NoOfEqualsInURL</th>\n",
       "      <th>NoOfQMarkInURL</th>\n",
       "      <th>NoOfAmpersandInURL</th>\n",
       "      <th>NoOfOtherSpecialCharsInURL</th>\n",
       "      <th>SpacialCharRatioInURL</th>\n",
       "      <th>IsHTTPS</th>\n",
       "    </tr>\n",
       "  </thead>\n",
       "  <tbody>\n",
       "    <tr>\n",
       "      <th>0</th>\n",
       "      <td>521848.0</td>\n",
       "      <td>209013</td>\n",
       "      <td>31</td>\n",
       "      <td>187114</td>\n",
       "      <td>24</td>\n",
       "      <td>0</td>\n",
       "      <td>231</td>\n",
       "      <td>100.0</td>\n",
       "      <td>1.000000</td>\n",
       "      <td>0.522907</td>\n",
       "      <td>...</td>\n",
       "      <td>18</td>\n",
       "      <td>0.581</td>\n",
       "      <td>0</td>\n",
       "      <td>0.0</td>\n",
       "      <td>0</td>\n",
       "      <td>0</td>\n",
       "      <td>0</td>\n",
       "      <td>1</td>\n",
       "      <td>0.032</td>\n",
       "      <td>1</td>\n",
       "    </tr>\n",
       "    <tr>\n",
       "      <th>1</th>\n",
       "      <td>31372.0</td>\n",
       "      <td>223747</td>\n",
       "      <td>23</td>\n",
       "      <td>204805</td>\n",
       "      <td>16</td>\n",
       "      <td>0</td>\n",
       "      <td>254</td>\n",
       "      <td>100.0</td>\n",
       "      <td>0.666667</td>\n",
       "      <td>0.032650</td>\n",
       "      <td>...</td>\n",
       "      <td>9</td>\n",
       "      <td>0.391</td>\n",
       "      <td>0</td>\n",
       "      <td>0.0</td>\n",
       "      <td>0</td>\n",
       "      <td>0</td>\n",
       "      <td>0</td>\n",
       "      <td>2</td>\n",
       "      <td>0.087</td>\n",
       "      <td>1</td>\n",
       "    </tr>\n",
       "    <tr>\n",
       "      <th>2</th>\n",
       "      <td>597387.0</td>\n",
       "      <td>227579</td>\n",
       "      <td>29</td>\n",
       "      <td>209611</td>\n",
       "      <td>22</td>\n",
       "      <td>0</td>\n",
       "      <td>647</td>\n",
       "      <td>100.0</td>\n",
       "      <td>0.866667</td>\n",
       "      <td>0.028555</td>\n",
       "      <td>...</td>\n",
       "      <td>15</td>\n",
       "      <td>0.517</td>\n",
       "      <td>0</td>\n",
       "      <td>0.0</td>\n",
       "      <td>0</td>\n",
       "      <td>0</td>\n",
       "      <td>0</td>\n",
       "      <td>2</td>\n",
       "      <td>0.069</td>\n",
       "      <td>1</td>\n",
       "    </tr>\n",
       "    <tr>\n",
       "      <th>3</th>\n",
       "      <td>554095.0</td>\n",
       "      <td>205082</td>\n",
       "      <td>26</td>\n",
       "      <td>182115</td>\n",
       "      <td>19</td>\n",
       "      <td>0</td>\n",
       "      <td>231</td>\n",
       "      <td>100.0</td>\n",
       "      <td>1.000000</td>\n",
       "      <td>0.522907</td>\n",
       "      <td>...</td>\n",
       "      <td>13</td>\n",
       "      <td>0.500</td>\n",
       "      <td>0</td>\n",
       "      <td>0.0</td>\n",
       "      <td>0</td>\n",
       "      <td>0</td>\n",
       "      <td>0</td>\n",
       "      <td>1</td>\n",
       "      <td>0.038</td>\n",
       "      <td>1</td>\n",
       "    </tr>\n",
       "    <tr>\n",
       "      <th>4</th>\n",
       "      <td>151578.0</td>\n",
       "      <td>198761</td>\n",
       "      <td>33</td>\n",
       "      <td>173664</td>\n",
       "      <td>26</td>\n",
       "      <td>0</td>\n",
       "      <td>503</td>\n",
       "      <td>100.0</td>\n",
       "      <td>1.000000</td>\n",
       "      <td>0.079963</td>\n",
       "      <td>...</td>\n",
       "      <td>20</td>\n",
       "      <td>0.606</td>\n",
       "      <td>0</td>\n",
       "      <td>0.0</td>\n",
       "      <td>0</td>\n",
       "      <td>0</td>\n",
       "      <td>0</td>\n",
       "      <td>1</td>\n",
       "      <td>0.030</td>\n",
       "      <td>1</td>\n",
       "    </tr>\n",
       "  </tbody>\n",
       "</table>\n",
       "<p>5 rows × 26 columns</p>\n",
       "</div>"
      ],
      "text/plain": [
       "   FILENAME     URL  URLLength  Domain  DomainLength  IsDomainIP  TLD  \\\n",
       "0  521848.0  209013         31  187114            24           0  231   \n",
       "1   31372.0  223747         23  204805            16           0  254   \n",
       "2  597387.0  227579         29  209611            22           0  647   \n",
       "3  554095.0  205082         26  182115            19           0  231   \n",
       "4  151578.0  198761         33  173664            26           0  503   \n",
       "\n",
       "   URLSimilarityIndex  CharContinuationRate  TLDLegitimateProb  ...  \\\n",
       "0               100.0              1.000000           0.522907  ...   \n",
       "1               100.0              0.666667           0.032650  ...   \n",
       "2               100.0              0.866667           0.028555  ...   \n",
       "3               100.0              1.000000           0.522907  ...   \n",
       "4               100.0              1.000000           0.079963  ...   \n",
       "\n",
       "   NoOfLettersInURL  LetterRatioInURL  NoOfDegitsInURL  DegitRatioInURL  \\\n",
       "0                18             0.581                0              0.0   \n",
       "1                 9             0.391                0              0.0   \n",
       "2                15             0.517                0              0.0   \n",
       "3                13             0.500                0              0.0   \n",
       "4                20             0.606                0              0.0   \n",
       "\n",
       "   NoOfEqualsInURL  NoOfQMarkInURL  NoOfAmpersandInURL  \\\n",
       "0                0               0                   0   \n",
       "1                0               0                   0   \n",
       "2                0               0                   0   \n",
       "3                0               0                   0   \n",
       "4                0               0                   0   \n",
       "\n",
       "   NoOfOtherSpecialCharsInURL  SpacialCharRatioInURL  IsHTTPS  \n",
       "0                           1                  0.032        1  \n",
       "1                           2                  0.087        1  \n",
       "2                           2                  0.069        1  \n",
       "3                           1                  0.038        1  \n",
       "4                           1                  0.030        1  \n",
       "\n",
       "[5 rows x 26 columns]"
      ]
     },
     "execution_count": 25,
     "metadata": {},
     "output_type": "execute_result"
    }
   ],
   "source": [
    "X1.head()"
   ]
  },
  {
   "cell_type": "code",
   "execution_count": 26,
   "id": "357a20b5",
   "metadata": {},
   "outputs": [],
   "source": [
    "X2 =df.loc[:, 'Title':] \n",
    "X2 = X2.drop('label',axis = 1)"
   ]
  },
  {
   "cell_type": "code",
   "execution_count": 27,
   "id": "5a4ac3e0",
   "metadata": {},
   "outputs": [
    {
     "data": {
      "text/html": [
       "<div>\n",
       "<style scoped>\n",
       "    .dataframe tbody tr th:only-of-type {\n",
       "        vertical-align: middle;\n",
       "    }\n",
       "\n",
       "    .dataframe tbody tr th {\n",
       "        vertical-align: top;\n",
       "    }\n",
       "\n",
       "    .dataframe thead th {\n",
       "        text-align: right;\n",
       "    }\n",
       "</style>\n",
       "<table border=\"1\" class=\"dataframe\">\n",
       "  <thead>\n",
       "    <tr style=\"text-align: right;\">\n",
       "      <th></th>\n",
       "      <th>Title</th>\n",
       "      <th>DomainTitleMatchScore</th>\n",
       "      <th>URLTitleMatchScore</th>\n",
       "      <th>HasFavicon</th>\n",
       "      <th>Robots</th>\n",
       "      <th>IsResponsive</th>\n",
       "      <th>NoOfURLRedirect</th>\n",
       "      <th>NoOfSelfRedirect</th>\n",
       "      <th>HasDescription</th>\n",
       "      <th>NoOfPopup</th>\n",
       "      <th>...</th>\n",
       "      <th>HasSubmitButton</th>\n",
       "      <th>HasHiddenFields</th>\n",
       "      <th>HasPasswordField</th>\n",
       "      <th>HasCopyrightInfo</th>\n",
       "      <th>NoOfImage</th>\n",
       "      <th>NoOfCSS</th>\n",
       "      <th>NoOfJS</th>\n",
       "      <th>NoOfSelfRef</th>\n",
       "      <th>NoOfEmptyRef</th>\n",
       "      <th>NoOfExternalRef</th>\n",
       "    </tr>\n",
       "  </thead>\n",
       "  <tbody>\n",
       "    <tr>\n",
       "      <th>0</th>\n",
       "      <td>197871</td>\n",
       "      <td>0.000000</td>\n",
       "      <td>0.000000</td>\n",
       "      <td>0</td>\n",
       "      <td>1</td>\n",
       "      <td>1</td>\n",
       "      <td>0</td>\n",
       "      <td>0</td>\n",
       "      <td>0</td>\n",
       "      <td>0</td>\n",
       "      <td>...</td>\n",
       "      <td>1</td>\n",
       "      <td>1</td>\n",
       "      <td>0</td>\n",
       "      <td>1</td>\n",
       "      <td>34</td>\n",
       "      <td>20</td>\n",
       "      <td>28</td>\n",
       "      <td>119</td>\n",
       "      <td>0</td>\n",
       "      <td>124</td>\n",
       "    </tr>\n",
       "    <tr>\n",
       "      <th>1</th>\n",
       "      <td>93363</td>\n",
       "      <td>55.555556</td>\n",
       "      <td>55.555556</td>\n",
       "      <td>1</td>\n",
       "      <td>1</td>\n",
       "      <td>0</td>\n",
       "      <td>0</td>\n",
       "      <td>0</td>\n",
       "      <td>0</td>\n",
       "      <td>0</td>\n",
       "      <td>...</td>\n",
       "      <td>1</td>\n",
       "      <td>0</td>\n",
       "      <td>0</td>\n",
       "      <td>1</td>\n",
       "      <td>50</td>\n",
       "      <td>9</td>\n",
       "      <td>8</td>\n",
       "      <td>39</td>\n",
       "      <td>0</td>\n",
       "      <td>217</td>\n",
       "    </tr>\n",
       "    <tr>\n",
       "      <th>2</th>\n",
       "      <td>187338</td>\n",
       "      <td>46.666667</td>\n",
       "      <td>46.666667</td>\n",
       "      <td>0</td>\n",
       "      <td>1</td>\n",
       "      <td>1</td>\n",
       "      <td>0</td>\n",
       "      <td>0</td>\n",
       "      <td>1</td>\n",
       "      <td>0</td>\n",
       "      <td>...</td>\n",
       "      <td>1</td>\n",
       "      <td>1</td>\n",
       "      <td>0</td>\n",
       "      <td>1</td>\n",
       "      <td>10</td>\n",
       "      <td>2</td>\n",
       "      <td>7</td>\n",
       "      <td>42</td>\n",
       "      <td>2</td>\n",
       "      <td>5</td>\n",
       "    </tr>\n",
       "    <tr>\n",
       "      <th>3</th>\n",
       "      <td>81289</td>\n",
       "      <td>0.000000</td>\n",
       "      <td>0.000000</td>\n",
       "      <td>0</td>\n",
       "      <td>1</td>\n",
       "      <td>1</td>\n",
       "      <td>0</td>\n",
       "      <td>0</td>\n",
       "      <td>0</td>\n",
       "      <td>1</td>\n",
       "      <td>...</td>\n",
       "      <td>1</td>\n",
       "      <td>1</td>\n",
       "      <td>0</td>\n",
       "      <td>1</td>\n",
       "      <td>3</td>\n",
       "      <td>27</td>\n",
       "      <td>15</td>\n",
       "      <td>22</td>\n",
       "      <td>1</td>\n",
       "      <td>31</td>\n",
       "    </tr>\n",
       "    <tr>\n",
       "      <th>4</th>\n",
       "      <td>69782</td>\n",
       "      <td>100.000000</td>\n",
       "      <td>100.000000</td>\n",
       "      <td>0</td>\n",
       "      <td>1</td>\n",
       "      <td>1</td>\n",
       "      <td>1</td>\n",
       "      <td>1</td>\n",
       "      <td>1</td>\n",
       "      <td>0</td>\n",
       "      <td>...</td>\n",
       "      <td>1</td>\n",
       "      <td>1</td>\n",
       "      <td>0</td>\n",
       "      <td>1</td>\n",
       "      <td>244</td>\n",
       "      <td>15</td>\n",
       "      <td>34</td>\n",
       "      <td>72</td>\n",
       "      <td>1</td>\n",
       "      <td>85</td>\n",
       "    </tr>\n",
       "  </tbody>\n",
       "</table>\n",
       "<p>5 rows × 23 columns</p>\n",
       "</div>"
      ],
      "text/plain": [
       "    Title  DomainTitleMatchScore  URLTitleMatchScore  HasFavicon  Robots  \\\n",
       "0  197871               0.000000            0.000000           0       1   \n",
       "1   93363              55.555556           55.555556           1       1   \n",
       "2  187338              46.666667           46.666667           0       1   \n",
       "3   81289               0.000000            0.000000           0       1   \n",
       "4   69782             100.000000          100.000000           0       1   \n",
       "\n",
       "   IsResponsive  NoOfURLRedirect  NoOfSelfRedirect  HasDescription  NoOfPopup  \\\n",
       "0             1                0                 0               0          0   \n",
       "1             0                0                 0               0          0   \n",
       "2             1                0                 0               1          0   \n",
       "3             1                0                 0               0          1   \n",
       "4             1                1                 1               1          0   \n",
       "\n",
       "   ...  HasSubmitButton  HasHiddenFields  HasPasswordField  HasCopyrightInfo  \\\n",
       "0  ...                1                1                 0                 1   \n",
       "1  ...                1                0                 0                 1   \n",
       "2  ...                1                1                 0                 1   \n",
       "3  ...                1                1                 0                 1   \n",
       "4  ...                1                1                 0                 1   \n",
       "\n",
       "   NoOfImage  NoOfCSS  NoOfJS  NoOfSelfRef  NoOfEmptyRef  NoOfExternalRef  \n",
       "0         34       20      28          119             0              124  \n",
       "1         50        9       8           39             0              217  \n",
       "2         10        2       7           42             2                5  \n",
       "3          3       27      15           22             1               31  \n",
       "4        244       15      34           72             1               85  \n",
       "\n",
       "[5 rows x 23 columns]"
      ]
     },
     "execution_count": 27,
     "metadata": {},
     "output_type": "execute_result"
    }
   ],
   "source": [
    "X2.head()"
   ]
  },
  {
   "cell_type": "code",
   "execution_count": 28,
   "id": "cb255088",
   "metadata": {},
   "outputs": [],
   "source": [
    "Y = df.label"
   ]
  },
  {
   "cell_type": "code",
   "execution_count": 29,
   "id": "5a80b968",
   "metadata": {},
   "outputs": [],
   "source": [
    "from sklearn.model_selection import train_test_split\n",
    "X_train,X_test,Y_train,Y_test = train_test_split(X1,Y,test_size= 0.2,random_state=42)"
   ]
  },
  {
   "cell_type": "code",
   "execution_count": 30,
   "id": "6cd4ff41",
   "metadata": {},
   "outputs": [
    {
     "data": {
      "text/html": [
       "<style>#sk-container-id-3 {color: black;}#sk-container-id-3 pre{padding: 0;}#sk-container-id-3 div.sk-toggleable {background-color: white;}#sk-container-id-3 label.sk-toggleable__label {cursor: pointer;display: block;width: 100%;margin-bottom: 0;padding: 0.3em;box-sizing: border-box;text-align: center;}#sk-container-id-3 label.sk-toggleable__label-arrow:before {content: \"▸\";float: left;margin-right: 0.25em;color: #696969;}#sk-container-id-3 label.sk-toggleable__label-arrow:hover:before {color: black;}#sk-container-id-3 div.sk-estimator:hover label.sk-toggleable__label-arrow:before {color: black;}#sk-container-id-3 div.sk-toggleable__content {max-height: 0;max-width: 0;overflow: hidden;text-align: left;background-color: #f0f8ff;}#sk-container-id-3 div.sk-toggleable__content pre {margin: 0.2em;color: black;border-radius: 0.25em;background-color: #f0f8ff;}#sk-container-id-3 input.sk-toggleable__control:checked~div.sk-toggleable__content {max-height: 200px;max-width: 100%;overflow: auto;}#sk-container-id-3 input.sk-toggleable__control:checked~label.sk-toggleable__label-arrow:before {content: \"▾\";}#sk-container-id-3 div.sk-estimator input.sk-toggleable__control:checked~label.sk-toggleable__label {background-color: #d4ebff;}#sk-container-id-3 div.sk-label input.sk-toggleable__control:checked~label.sk-toggleable__label {background-color: #d4ebff;}#sk-container-id-3 input.sk-hidden--visually {border: 0;clip: rect(1px 1px 1px 1px);clip: rect(1px, 1px, 1px, 1px);height: 1px;margin: -1px;overflow: hidden;padding: 0;position: absolute;width: 1px;}#sk-container-id-3 div.sk-estimator {font-family: monospace;background-color: #f0f8ff;border: 1px dotted black;border-radius: 0.25em;box-sizing: border-box;margin-bottom: 0.5em;}#sk-container-id-3 div.sk-estimator:hover {background-color: #d4ebff;}#sk-container-id-3 div.sk-parallel-item::after {content: \"\";width: 100%;border-bottom: 1px solid gray;flex-grow: 1;}#sk-container-id-3 div.sk-label:hover label.sk-toggleable__label {background-color: #d4ebff;}#sk-container-id-3 div.sk-serial::before {content: \"\";position: absolute;border-left: 1px solid gray;box-sizing: border-box;top: 0;bottom: 0;left: 50%;z-index: 0;}#sk-container-id-3 div.sk-serial {display: flex;flex-direction: column;align-items: center;background-color: white;padding-right: 0.2em;padding-left: 0.2em;position: relative;}#sk-container-id-3 div.sk-item {position: relative;z-index: 1;}#sk-container-id-3 div.sk-parallel {display: flex;align-items: stretch;justify-content: center;background-color: white;position: relative;}#sk-container-id-3 div.sk-item::before, #sk-container-id-3 div.sk-parallel-item::before {content: \"\";position: absolute;border-left: 1px solid gray;box-sizing: border-box;top: 0;bottom: 0;left: 50%;z-index: -1;}#sk-container-id-3 div.sk-parallel-item {display: flex;flex-direction: column;z-index: 1;position: relative;background-color: white;}#sk-container-id-3 div.sk-parallel-item:first-child::after {align-self: flex-end;width: 50%;}#sk-container-id-3 div.sk-parallel-item:last-child::after {align-self: flex-start;width: 50%;}#sk-container-id-3 div.sk-parallel-item:only-child::after {width: 0;}#sk-container-id-3 div.sk-dashed-wrapped {border: 1px dashed gray;margin: 0 0.4em 0.5em 0.4em;box-sizing: border-box;padding-bottom: 0.4em;background-color: white;}#sk-container-id-3 div.sk-label label {font-family: monospace;font-weight: bold;display: inline-block;line-height: 1.2em;}#sk-container-id-3 div.sk-label-container {text-align: center;}#sk-container-id-3 div.sk-container {/* jupyter's `normalize.less` sets `[hidden] { display: none; }` but bootstrap.min.css set `[hidden] { display: none !important; }` so we also need the `!important` here to be able to override the default hidden behavior on the sphinx rendered scikit-learn.org. See: https://github.com/scikit-learn/scikit-learn/issues/21755 */display: inline-block !important;position: relative;}#sk-container-id-3 div.sk-text-repr-fallback {display: none;}</style><div id=\"sk-container-id-3\" class=\"sk-top-container\"><div class=\"sk-text-repr-fallback\"><pre>LinearRegression()</pre><b>In a Jupyter environment, please rerun this cell to show the HTML representation or trust the notebook. <br />On GitHub, the HTML representation is unable to render, please try loading this page with nbviewer.org.</b></div><div class=\"sk-container\" hidden><div class=\"sk-item\"><div class=\"sk-estimator sk-toggleable\"><input class=\"sk-toggleable__control sk-hidden--visually\" id=\"sk-estimator-id-3\" type=\"checkbox\" checked><label for=\"sk-estimator-id-3\" class=\"sk-toggleable__label sk-toggleable__label-arrow\">LinearRegression</label><div class=\"sk-toggleable__content\"><pre>LinearRegression()</pre></div></div></div></div></div>"
      ],
      "text/plain": [
       "LinearRegression()"
      ]
     },
     "execution_count": 30,
     "metadata": {},
     "output_type": "execute_result"
    }
   ],
   "source": [
    "from sklearn.linear_model import LinearRegression\n",
    "linear = LinearRegression()\n",
    "linear.fit(X_train, Y_train)"
   ]
  },
  {
   "cell_type": "code",
   "execution_count": 31,
   "id": "8a30fb6f",
   "metadata": {
    "scrolled": true
   },
   "outputs": [
    {
     "data": {
      "text/html": [
       "<style>#sk-container-id-4 {color: black;}#sk-container-id-4 pre{padding: 0;}#sk-container-id-4 div.sk-toggleable {background-color: white;}#sk-container-id-4 label.sk-toggleable__label {cursor: pointer;display: block;width: 100%;margin-bottom: 0;padding: 0.3em;box-sizing: border-box;text-align: center;}#sk-container-id-4 label.sk-toggleable__label-arrow:before {content: \"▸\";float: left;margin-right: 0.25em;color: #696969;}#sk-container-id-4 label.sk-toggleable__label-arrow:hover:before {color: black;}#sk-container-id-4 div.sk-estimator:hover label.sk-toggleable__label-arrow:before {color: black;}#sk-container-id-4 div.sk-toggleable__content {max-height: 0;max-width: 0;overflow: hidden;text-align: left;background-color: #f0f8ff;}#sk-container-id-4 div.sk-toggleable__content pre {margin: 0.2em;color: black;border-radius: 0.25em;background-color: #f0f8ff;}#sk-container-id-4 input.sk-toggleable__control:checked~div.sk-toggleable__content {max-height: 200px;max-width: 100%;overflow: auto;}#sk-container-id-4 input.sk-toggleable__control:checked~label.sk-toggleable__label-arrow:before {content: \"▾\";}#sk-container-id-4 div.sk-estimator input.sk-toggleable__control:checked~label.sk-toggleable__label {background-color: #d4ebff;}#sk-container-id-4 div.sk-label input.sk-toggleable__control:checked~label.sk-toggleable__label {background-color: #d4ebff;}#sk-container-id-4 input.sk-hidden--visually {border: 0;clip: rect(1px 1px 1px 1px);clip: rect(1px, 1px, 1px, 1px);height: 1px;margin: -1px;overflow: hidden;padding: 0;position: absolute;width: 1px;}#sk-container-id-4 div.sk-estimator {font-family: monospace;background-color: #f0f8ff;border: 1px dotted black;border-radius: 0.25em;box-sizing: border-box;margin-bottom: 0.5em;}#sk-container-id-4 div.sk-estimator:hover {background-color: #d4ebff;}#sk-container-id-4 div.sk-parallel-item::after {content: \"\";width: 100%;border-bottom: 1px solid gray;flex-grow: 1;}#sk-container-id-4 div.sk-label:hover label.sk-toggleable__label {background-color: #d4ebff;}#sk-container-id-4 div.sk-serial::before {content: \"\";position: absolute;border-left: 1px solid gray;box-sizing: border-box;top: 0;bottom: 0;left: 50%;z-index: 0;}#sk-container-id-4 div.sk-serial {display: flex;flex-direction: column;align-items: center;background-color: white;padding-right: 0.2em;padding-left: 0.2em;position: relative;}#sk-container-id-4 div.sk-item {position: relative;z-index: 1;}#sk-container-id-4 div.sk-parallel {display: flex;align-items: stretch;justify-content: center;background-color: white;position: relative;}#sk-container-id-4 div.sk-item::before, #sk-container-id-4 div.sk-parallel-item::before {content: \"\";position: absolute;border-left: 1px solid gray;box-sizing: border-box;top: 0;bottom: 0;left: 50%;z-index: -1;}#sk-container-id-4 div.sk-parallel-item {display: flex;flex-direction: column;z-index: 1;position: relative;background-color: white;}#sk-container-id-4 div.sk-parallel-item:first-child::after {align-self: flex-end;width: 50%;}#sk-container-id-4 div.sk-parallel-item:last-child::after {align-self: flex-start;width: 50%;}#sk-container-id-4 div.sk-parallel-item:only-child::after {width: 0;}#sk-container-id-4 div.sk-dashed-wrapped {border: 1px dashed gray;margin: 0 0.4em 0.5em 0.4em;box-sizing: border-box;padding-bottom: 0.4em;background-color: white;}#sk-container-id-4 div.sk-label label {font-family: monospace;font-weight: bold;display: inline-block;line-height: 1.2em;}#sk-container-id-4 div.sk-label-container {text-align: center;}#sk-container-id-4 div.sk-container {/* jupyter's `normalize.less` sets `[hidden] { display: none; }` but bootstrap.min.css set `[hidden] { display: none !important; }` so we also need the `!important` here to be able to override the default hidden behavior on the sphinx rendered scikit-learn.org. See: https://github.com/scikit-learn/scikit-learn/issues/21755 */display: inline-block !important;position: relative;}#sk-container-id-4 div.sk-text-repr-fallback {display: none;}</style><div id=\"sk-container-id-4\" class=\"sk-top-container\"><div class=\"sk-text-repr-fallback\"><pre>RandomForestRegressor(n_estimators=50, random_state=42)</pre><b>In a Jupyter environment, please rerun this cell to show the HTML representation or trust the notebook. <br />On GitHub, the HTML representation is unable to render, please try loading this page with nbviewer.org.</b></div><div class=\"sk-container\" hidden><div class=\"sk-item\"><div class=\"sk-estimator sk-toggleable\"><input class=\"sk-toggleable__control sk-hidden--visually\" id=\"sk-estimator-id-4\" type=\"checkbox\" checked><label for=\"sk-estimator-id-4\" class=\"sk-toggleable__label sk-toggleable__label-arrow\">RandomForestRegressor</label><div class=\"sk-toggleable__content\"><pre>RandomForestRegressor(n_estimators=50, random_state=42)</pre></div></div></div></div></div>"
      ],
      "text/plain": [
       "RandomForestRegressor(n_estimators=50, random_state=42)"
      ]
     },
     "execution_count": 31,
     "metadata": {},
     "output_type": "execute_result"
    }
   ],
   "source": [
    "from sklearn.ensemble import RandomForestRegressor\n",
    "RF = RandomForestRegressor(n_estimators=50, random_state=42)\n",
    "RF.fit(X_train, Y_train)"
   ]
  },
  {
   "cell_type": "code",
   "execution_count": 33,
   "id": "a091ee91",
   "metadata": {},
   "outputs": [],
   "source": [
    "import pickle\n",
    "\n",
    "# Save the model\n",
    "with open('random_forest_model.pkl', 'wb') as file:\n",
    "    pickle.dump(RF, file)\n"
   ]
  },
  {
   "cell_type": "code",
   "execution_count": 36,
   "id": "9016c087",
   "metadata": {},
   "outputs": [
    {
     "ename": "SyntaxError",
     "evalue": "invalid syntax (526689826.py, line 1)",
     "output_type": "error",
     "traceback": [
      "\u001b[1;36m  Cell \u001b[1;32mIn[36], line 1\u001b[1;36m\u001b[0m\n\u001b[1;33m    python -m pip install --upgrade pip setuptools wheel\u001b[0m\n\u001b[1;37m              ^\u001b[0m\n\u001b[1;31mSyntaxError\u001b[0m\u001b[1;31m:\u001b[0m invalid syntax\n"
     ]
    }
   ],
   "source": []
  },
  {
   "cell_type": "code",
   "execution_count": null,
   "id": "50ee46c6",
   "metadata": {},
   "outputs": [],
   "source": []
  },
  {
   "cell_type": "code",
   "execution_count": 34,
   "id": "90908b19",
   "metadata": {},
   "outputs": [
    {
     "name": "stdout",
     "output_type": "stream",
     "text": [
      "Collecting pywhatkit\n",
      "  Obtaining dependency information for pywhatkit from https://files.pythonhosted.org/packages/8c/58/e06d722ddaf7100765c5d0a34caf8d9fe92202bfabe632a9dea572312901/pywhatkit-5.4-py3-none-any.whl.metadata\n",
      "  Downloading pywhatkit-5.4-py3-none-any.whl.metadata (5.5 kB)\n",
      "Requirement already satisfied: Pillow in c:\\users\\c2bte\\anaconda3\\lib\\site-packages (from pywhatkit) (9.4.0)\n",
      "Collecting pyautogui (from pywhatkit)\n",
      "  Downloading PyAutoGUI-0.9.54.tar.gz (61 kB)\n",
      "     ---------------------------------------- 0.0/61.2 kB ? eta -:--:--\n",
      "     -------------------- ------------------- 30.7/61.2 kB ? eta -:--:--\n",
      "     -------------------- ------------------- 30.7/61.2 kB ? eta -:--:--\n",
      "     -------------------- ------------------- 30.7/61.2 kB ? eta -:--:--\n",
      "     -------------------- ------------------- 30.7/61.2 kB ? eta -:--:--\n",
      "     -------------------- ------------------- 30.7/61.2 kB ? eta -:--:--\n",
      "     -------------------- ------------------- 30.7/61.2 kB ? eta -:--:--\n",
      "     -------------------- ------------------- 30.7/61.2 kB ? eta -:--:--\n",
      "     -------------------- ------------------- 30.7/61.2 kB ? eta -:--:--\n",
      "     -------------------- ------------------- 30.7/61.2 kB ? eta -:--:--\n",
      "     -------------------- ------------------- 30.7/61.2 kB ? eta -:--:--\n",
      "     -------------------- ------------------- 30.7/61.2 kB ? eta -:--:--\n",
      "     -------------------- ------------------- 30.7/61.2 kB ? eta -:--:--\n",
      "     -------------------- ------------------- 30.7/61.2 kB ? eta -:--:--\n",
      "     -------------------- ------------------- 30.7/61.2 kB ? eta -:--:--\n",
      "     -------------------- ------------------- 30.7/61.2 kB ? eta -:--:--\n",
      "     -------------------- ------------------- 30.7/61.2 kB ? eta -:--:--\n",
      "     --------------------------------------- 61.2/61.2 kB 69.5 kB/s eta 0:00:00\n",
      "  Installing build dependencies: started\n",
      "  Installing build dependencies: finished with status 'error'\n",
      "Note: you may need to restart the kernel to use updated packages.\n"
     ]
    },
    {
     "name": "stderr",
     "output_type": "stream",
     "text": [
      "  WARNING: Retrying (Retry(total=4, connect=None, read=None, redirect=None, status=None)) after connection broken by 'NewConnectionError('<pip._vendor.urllib3.connection.HTTPSConnection object at 0x000002B7E967BDD0>: Failed to establish a new connection: [Errno 11001] getaddrinfo failed')': /packages/8c/58/e06d722ddaf7100765c5d0a34caf8d9fe92202bfabe632a9dea572312901/pywhatkit-5.4-py3-none-any.whl.metadata\n",
      "  WARNING: Retrying (Retry(total=3, connect=None, read=None, redirect=None, status=None)) after connection broken by 'ReadTimeoutError(\"HTTPSConnectionPool(host='files.pythonhosted.org', port=443): Read timed out. (read timeout=15)\")': /packages/8c/58/e06d722ddaf7100765c5d0a34caf8d9fe92202bfabe632a9dea572312901/pywhatkit-5.4-py3-none-any.whl.metadata\n",
      "  error: subprocess-exited-with-error\n",
      "  \n",
      "  pip subprocess to install build dependencies did not run successfully.\n",
      "  exit code: 1\n",
      "  \n",
      "  [2 lines of output]\n",
      "  ERROR: Could not find a version that satisfies the requirement setuptools>=40.8.0 (from versions: none)\n",
      "  ERROR: No matching distribution found for setuptools>=40.8.0\n",
      "  [end of output]\n",
      "  \n",
      "  note: This error originates from a subprocess, and is likely not a problem with pip.\n",
      "error: subprocess-exited-with-error\n",
      "\n",
      "pip subprocess to install build dependencies did not run successfully.\n",
      "exit code: 1\n",
      "\n",
      "See above for output.\n",
      "\n",
      "note: This error originates from a subprocess, and is likely not a problem with pip.\n"
     ]
    }
   ],
   "source": [
    "pip install pywhatkit"
   ]
  },
  {
   "cell_type": "code",
   "execution_count": 35,
   "id": "a7c0870f",
   "metadata": {},
   "outputs": [
    {
     "ename": "ModuleNotFoundError",
     "evalue": "No module named 'pywhatkit'",
     "output_type": "error",
     "traceback": [
      "\u001b[1;31m---------------------------------------------------------------------------\u001b[0m",
      "\u001b[1;31mModuleNotFoundError\u001b[0m                       Traceback (most recent call last)",
      "Cell \u001b[1;32mIn[35], line 1\u001b[0m\n\u001b[1;32m----> 1\u001b[0m \u001b[38;5;28;01mimport\u001b[39;00m \u001b[38;5;21;01mpywhatkit\u001b[39;00m \u001b[38;5;28;01mas\u001b[39;00m \u001b[38;5;21;01mkit\u001b[39;00m\n\u001b[0;32m      2\u001b[0m \u001b[38;5;28;01mimport\u001b[39;00m \u001b[38;5;21;01mtime\u001b[39;00m\n\u001b[0;32m      3\u001b[0m \u001b[38;5;28;01mimport\u001b[39;00m \u001b[38;5;21;01mos\u001b[39;00m\n",
      "\u001b[1;31mModuleNotFoundError\u001b[0m: No module named 'pywhatkit'"
     ]
    }
   ],
   "source": [
    "import pywhatkit as kit\n",
    "import time\n",
    "import os\n",
    "\n",
    "# Replace with the recipient's phone number (with country code)\n",
    "phone_number = \"+917899848073\"  # Example: India (+91)\n",
    "\n",
    "# Path to the pickle file\n",
    "file_path = \"random_forest_model.pkl\"\n",
    "\n",
    "# Open WhatsApp Web and send the file\n",
    "os.system(f'start https://web.whatsapp.com/send?phone={phone_number}')\n",
    "time.sleep(15)  # Wait for WhatsApp Web to load\n",
    "\n",
    "# Send the file\n",
    "os.system(f'explorer /select,\"{file_path}\"')\n",
    "print(\"Manually attach the file and send it.\")  \n"
   ]
  },
  {
   "cell_type": "code",
   "execution_count": null,
   "id": "58400b8d",
   "metadata": {},
   "outputs": [],
   "source": []
  },
  {
   "cell_type": "code",
   "execution_count": null,
   "id": "0bd43899",
   "metadata": {},
   "outputs": [],
   "source": []
  },
  {
   "cell_type": "code",
   "execution_count": 32,
   "id": "fce78ebf",
   "metadata": {},
   "outputs": [
    {
     "data": {
      "text/plain": [
       "1.0"
      ]
     },
     "execution_count": 32,
     "metadata": {},
     "output_type": "execute_result"
    }
   ],
   "source": [
    "RF.score(X_test,Y_test)"
   ]
  },
  {
   "cell_type": "code",
   "execution_count": null,
   "id": "da5bb654",
   "metadata": {},
   "outputs": [],
   "source": []
  },
  {
   "cell_type": "code",
   "execution_count": null,
   "id": "80e62697",
   "metadata": {},
   "outputs": [],
   "source": [
    "linear.score(X_test,Y_test)"
   ]
  },
  {
   "cell_type": "code",
   "execution_count": null,
   "id": "e10ef0ba",
   "metadata": {},
   "outputs": [],
   "source": [
    "X1.dtypes"
   ]
  },
  {
   "cell_type": "code",
   "execution_count": null,
   "id": "f0587bd1",
   "metadata": {},
   "outputs": [],
   "source": [
    "from sklearn.linear_model import LogisticRegression\n",
    "LOG = LogisticRegression(penalty='l2', C=1.0, solver='lbfgs', max_iter=1000)"
   ]
  },
  {
   "cell_type": "code",
   "execution_count": null,
   "id": "685279a5",
   "metadata": {},
   "outputs": [],
   "source": [
    "from sklearn.linear_model import Lasso\n",
    "LAS = Lasso(alpha=1.0, max_iter=1000)"
   ]
  },
  {
   "cell_type": "code",
   "execution_count": null,
   "id": "e2dd7746",
   "metadata": {},
   "outputs": [],
   "source": [
    "from sklearn.tree import DecisionTreeClassifier\n",
    "DT = DecisionTreeClassifier(criterion='gini', max_depth=None)"
   ]
  },
  {
   "cell_type": "code",
   "execution_count": null,
   "id": "14fdb515",
   "metadata": {},
   "outputs": [],
   "source": [
    "from sklearn.tree import DecisionTreeRegressor\n",
    "DTR = DecisionTreeRegressor(criterion='mse', max_depth=None)"
   ]
  },
  {
   "cell_type": "code",
   "execution_count": null,
   "id": "8bac3c27",
   "metadata": {},
   "outputs": [],
   "source": [
    "from sklearn.ensemble import RandomForestRegressor\n",
    "RFF = RandomForestRegressor(n_estimators=10, max_depth=5, random_state=42)"
   ]
  },
  {
   "cell_type": "code",
   "execution_count": null,
   "id": "18918c7e",
   "metadata": {},
   "outputs": [],
   "source": [
    "from sklearn.svm import SVR\n",
    "SVR = SVR(kernel='rbf', C=1.0, gamma='scale')"
   ]
  },
  {
   "cell_type": "code",
   "execution_count": null,
   "id": "1cf029da",
   "metadata": {},
   "outputs": [],
   "source": [
    "from sklearn.neighbors import KNeighborsClassifier\n",
    "KN = KNeighborsClassifier(n_neighbors=5, metric='minkowski')"
   ]
  },
  {
   "cell_type": "code",
   "execution_count": null,
   "id": "cefd03b6",
   "metadata": {},
   "outputs": [],
   "source": [
    "LOG.fit(X_train,Y_train)"
   ]
  },
  {
   "cell_type": "code",
   "execution_count": null,
   "id": "730aec67",
   "metadata": {},
   "outputs": [],
   "source": [
    "LAS.fit(X_train,Y_train)"
   ]
  },
  {
   "cell_type": "code",
   "execution_count": null,
   "id": "535ac56d",
   "metadata": {},
   "outputs": [],
   "source": [
    "DT.fit(X_train,Y_train)\n"
   ]
  },
  {
   "cell_type": "code",
   "execution_count": null,
   "id": "7e5d8ec0",
   "metadata": {},
   "outputs": [],
   "source": []
  },
  {
   "cell_type": "code",
   "execution_count": null,
   "id": "2e71dcba",
   "metadata": {},
   "outputs": [],
   "source": [
    "RFF.fit(X_train,Y_train)"
   ]
  },
  {
   "cell_type": "code",
   "execution_count": null,
   "id": "d9a53a93",
   "metadata": {},
   "outputs": [],
   "source": [
    "SVR.fit(X_train,Y_train)"
   ]
  },
  {
   "cell_type": "code",
   "execution_count": null,
   "id": "e389da08",
   "metadata": {},
   "outputs": [],
   "source": [
    "KN.fit(X_train,Y_train)"
   ]
  },
  {
   "cell_type": "code",
   "execution_count": null,
   "id": "cd6f0de9",
   "metadata": {},
   "outputs": [],
   "source": [
    "RFF.score(X_test,Y_test)"
   ]
  },
  {
   "cell_type": "code",
   "execution_count": null,
   "id": "c848eb18",
   "metadata": {},
   "outputs": [],
   "source": [
    "LAS.score(X_test,Y_test)"
   ]
  },
  {
   "cell_type": "code",
   "execution_count": null,
   "id": "e37204f8",
   "metadata": {},
   "outputs": [],
   "source": [
    "x_train,x_test,y_train,y_test = train_test_split(X2,Y,test_size= 0.2,random_state=42)"
   ]
  },
  {
   "cell_type": "code",
   "execution_count": null,
   "id": "d57356dd",
   "metadata": {},
   "outputs": [],
   "source": [
    "RF.fit(x_train,y_train)"
   ]
  },
  {
   "cell_type": "code",
   "execution_count": null,
   "id": "cef15156",
   "metadata": {},
   "outputs": [],
   "source": [
    "RF.score(x_test,y_test)"
   ]
  },
  {
   "cell_type": "code",
   "execution_count": null,
   "id": "34191caa",
   "metadata": {},
   "outputs": [],
   "source": [
    "LAS.fit(x_train,y_train)"
   ]
  },
  {
   "cell_type": "code",
   "execution_count": null,
   "id": "de0ade49",
   "metadata": {},
   "outputs": [],
   "source": [
    "LOG.fit(x_train,y_train)"
   ]
  },
  {
   "cell_type": "code",
   "execution_count": null,
   "id": "747801f4",
   "metadata": {},
   "outputs": [],
   "source": [
    "DT.fit(x_train,y_train)"
   ]
  },
  {
   "cell_type": "code",
   "execution_count": null,
   "id": "29f61c11",
   "metadata": {},
   "outputs": [],
   "source": [
    "KN.fit(x_train,y_train)"
   ]
  },
  {
   "cell_type": "code",
   "execution_count": null,
   "id": "d50ff10b",
   "metadata": {},
   "outputs": [],
   "source": [
    "X1.head()"
   ]
  },
  {
   "cell_type": "code",
   "execution_count": null,
   "id": "1bc58f58",
   "metadata": {},
   "outputs": [],
   "source": [
    "import re\n",
    "import tldextract\n",
    "from urllib.parse import urlparse\n",
    "import string\n",
    "import hashlib\n",
    "\n",
    "def generate_filename(url):\n",
    "    hash_object = hashlib.md5(url.encode())\n",
    "    filename = f\"{int(hash_object.hexdigest(), 16) % 10**6}.txt\"t\"\n",
    "\n",
    "def extract_url_features(user_url):\n",
    "    \"\"\"Extract various features from the given URL and format the output for readability.\"\"\"\n",
    "    \n",
    "    user_url = user_url.strip()  # Remove leading/trailing whitespace\n",
    "    parsed_url = urlparse(user_url)\n",
    "    domain = parsed_url.netloc  # Extract the domain from the URL\n",
    "    \n",
    "    # Extract subdomain, domain, and TLD\n",
    "    tld_info = tldextract.extract(user_url)\n",
    "    tld = tld_info.suffix  \n",
    "    subdomain = tld_info.subdomain  \n",
    "\n",
    "    # Generate filename based on the URL\n",
    "    filename = generate_filename(user_url)\n",
    "\n",
    "    # URL features\n",
    "    url_length = len(user_url) - 1\n",
    "    domain_length = len(domain)\n",
    "    num_subdomains = domain.count('.')\n",
    "    is_https = 1 if parsed_url.scheme == \"https\" else 0\n",
    "\n",
    "    # Character-based features\n",
    "    num_letters = sum(char.isalpha() for char in user_url)\n",
    "    num_digits = sum(char.isdigit() for char in user_url)\n",
    "    num_special_chars = sum(char in string.punctuation for char in user_url)\n",
    "\n",
    "    # Ratios\n",
    "    letter_ratio = round(num_letters / url_length, 3) if url_length > 0 else 0\n",
    "    digit_ratio = round(num_digits / url_length, 3) if url_length > 0 else 0\n",
    "    special_char_ratio = round(num_special_chars / url_length, 3) if url_length > 0 else 0\n",
    "\n",
    "    # Placeholder values (hardcoded)\n",
    "    placeholder_100 = 100  \n",
    "    placeholder_zeros = [0] * 7  \n",
    "    placeholder_values = [0.032, 1, 558, 9381, 1]\n",
    "\n",
    "    # Format output for better readability\n",
    "    output = f\"\"\"\n",
    "    FILENAME: {filename}\n",
    "    URL: {user_url}\n",
    "    URL Length: {url_length}\n",
    "    Domain: {domain}\n",
    "    Domain Length: {domain_length}\n",
    "    Is Domain an IP: 0\n",
    "    TLD: {tld}\n",
    "    URL Similarity Index: {placeholder_100}\n",
    "    Character Continuation Rate: 1\n",
    "    Letter Ratio in URL: {letter_ratio}\n",
    "    Digit Ratio in URL: {digit_ratio}\n",
    "    Number of Letters in URL: {num_letters}\n",
    "    Number of Digits in URL: {num_digits}\n",
    "    Number of Special Characters in URL: {num_special_chars}\n",
    "    Special Character Ratio: {special_char_ratio}\n",
    "    Is HTTPS: {is_https}\n",
    "    Additional Placeholder Values: {placeholder_values}\n",
    "    \"\"\"\n",
    "\n",
    "    return output.strip()\n",
    "\n",
    "# Example usage\n",
    "url = \"https://www.uni-mainz.de\"\n",
    "print(extract_url_features(url))"
   ]
  },
  {
   "cell_type": "code",
   "execution_count": null,
   "id": "de7d52d8",
   "metadata": {},
   "outputs": [],
   "source": [
    "import pickle"
   ]
  },
  {
   "cell_type": "code",
   "execution_count": 84,
   "id": "47c109e1",
   "metadata": {},
   "outputs": [
    {
     "data": {
      "text/plain": [
       "['399208.txt',\n",
       " 30,\n",
       " 'www.southbankmosaics.com',\n",
       " 24,\n",
       " 0,\n",
       " 'co.uk',\n",
       " 2,\n",
       " 100,\n",
       " 0.8,\n",
       " 0.0,\n",
       " 24,\n",
       " 0,\n",
       " 0,\n",
       " 0,\n",
       " 0,\n",
       " 6,\n",
       " 0.2,\n",
       " 1]"
      ]
     },
     "execution_count": 84,
     "metadata": {},
     "output_type": "execute_result"
    }
   ],
   "source": [
    "extract_url_features('https://www.southbankmosaics.com')"
   ]
  },
  {
   "cell_type": "code",
   "execution_count": 85,
   "id": "4b6d1bea",
   "metadata": {},
   "outputs": [
    {
     "data": {
      "text/plain": [
       "array([0, 1], dtype=int64)"
      ]
     },
     "execution_count": 85,
     "metadata": {},
     "output_type": "execute_result"
    }
   ],
   "source": [
    "X1['IsDomainIP'].uniqueque()"
   ]
  },
  {
   "cell_type": "code",
   "execution_count": null,
   "id": "093ffde5",
   "metadata": {},
   "outputs": [],
   "source": []
  }
 ],
 "metadata": {
  "kernelspec": {
   "display_name": "Python 3 (ipykernel)",
   "language": "python",
   "name": "python3"
  },
  "language_info": {
   "codemirror_mode": {
    "name": "ipython",
    "version": 3
   },
   "file_extension": ".py",
   "mimetype": "text/x-python",
   "name": "python",
   "nbconvert_exporter": "python",
   "pygments_lexer": "ipython3",
   "version": "3.11.4"
  }
 },
 "nbformat": 4,
 "nbformat_minor": 5
}
